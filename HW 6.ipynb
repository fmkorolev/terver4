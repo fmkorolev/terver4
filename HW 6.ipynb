{
 "cells": [
  {
   "cell_type": "code",
   "execution_count": 1,
   "id": "20e3a076",
   "metadata": {},
   "outputs": [],
   "source": [
    "import pandas as pd\n",
    "import numpy as np\n",
    "from statsmodels.stats.weightstats import _tconfint_generic as t_stat\n",
    "from scipy.stats import norm \n",
    "import math"
   ]
  },
  {
   "cell_type": "markdown",
   "id": "caf521f8",
   "metadata": {},
   "source": [
    "Задание 1\n",
    "Известно, что генеральная совокупность распределена нормально \n",
    "со средним квадратическим отклонением, равным 16. \n",
    "Найти доверительный интервал для оценки математического ожидания a с надежностью 0.95, \n",
    "если выборочная средняя M = 80, а объем выборки n = 256.\n"
   ]
  },
  {
   "cell_type": "code",
   "execution_count": 2,
   "id": "31e50297",
   "metadata": {},
   "outputs": [],
   "source": [
    "\n",
    "mean_std = np.sqrt(16) / 256"
   ]
  },
  {
   "cell_type": "code",
   "execution_count": 3,
   "id": "655d3ca1",
   "metadata": {},
   "outputs": [
    {
     "data": {
      "text/plain": [
       "(79.96922952234611, 80.03077047765389)"
      ]
     },
     "execution_count": 3,
     "metadata": {},
     "output_type": "execute_result"
    }
   ],
   "source": [
    "t_stat(80, mean_std,256 - 1, 0.05, 'two-sided')"
   ]
  },
  {
   "cell_type": "markdown",
   "id": "553f493e",
   "metadata": {},
   "source": [
    "Задание 2 .В результате 10 независимых измерений некоторой величины X, выполненных с одинаковой точностью, получены опытные данные: 6.9, 6.1, 6.2, 6.8, 7.5, 6.3, 6.4, 6.9, 6.7, 6.1 Предполагая, что результаты измерений подчинены нормальному закону распределения вероятностей, оценить истинное значение величины X при помощи доверительного интервала, покрывающего это значение с доверительной вероятностью 0,95."
   ]
  },
  {
   "cell_type": "code",
   "execution_count": null,
   "id": "4fa159bf",
   "metadata": {},
   "outputs": [],
   "source": []
  }
 ],
 "metadata": {
  "kernelspec": {
   "display_name": "Python 3 (ipykernel)",
   "language": "python",
   "name": "python3"
  },
  "language_info": {
   "codemirror_mode": {
    "name": "ipython",
    "version": 3
   },
   "file_extension": ".py",
   "mimetype": "text/x-python",
   "name": "python",
   "nbconvert_exporter": "python",
   "pygments_lexer": "ipython3",
   "version": "3.9.12"
  }
 },
 "nbformat": 4,
 "nbformat_minor": 5
}
