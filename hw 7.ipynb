{
 "cells": [
  {
   "cell_type": "code",
   "execution_count": 6,
   "id": "1e5fbdc6",
   "metadata": {},
   "outputs": [],
   "source": [
    "import numpy as np\n",
    "import scipy.stats as stats\n"
   ]
  },
  {
   "cell_type": "markdown",
   "id": "9c44496a",
   "metadata": {},
   "source": [
    "1 ) Даны две независимые выборки. Не соблюдается условие нормальности\n",
    "x1 380,420, 290\n",
    "y1 140,360,200,900"
   ]
  },
  {
   "cell_type": "code",
   "execution_count": 7,
   "id": "194ada9e",
   "metadata": {},
   "outputs": [
    {
     "data": {
      "text/plain": [
       "MannwhitneyuResult(statistic=8.0, pvalue=0.6285714285714286)"
      ]
     },
     "execution_count": 7,
     "metadata": {},
     "output_type": "execute_result"
    }
   ],
   "source": [
    "x1 = np.array([380,420, 290])\n",
    "y1 = np.array([40,360,200,900])\n",
    "stats.mannwhitneyu(x1,y1)"
   ]
  },
  {
   "cell_type": "markdown",
   "id": "7a45b5bf",
   "metadata": {},
   "source": [
    "Так как p value > alpha (0.05) то мы не можем отвергнуть нулевую гипотезу\n"
   ]
  },
  {
   "cell_type": "markdown",
   "id": "3cb61bc9",
   "metadata": {},
   "source": [
    "Задание 2 Исследовалось влияние препарата на уровень давления пациентов. Сначала измерялось давление до приема препарата, потом через 10 минут и через 30 минут. Есть ли статистически значимые различия?\n",
    "1е измерение до приема препарата: 150, 160, 165, 145, 155\n",
    "2е измерение через 10 минут: 140, 155, 150, 130, 135\n",
    "3е измерение через 30 минут: 130, 130, 120, 130, 125"
   ]
  },
  {
   "cell_type": "code",
   "execution_count": 8,
   "id": "eaadb6e0",
   "metadata": {},
   "outputs": [
    {
     "data": {
      "text/plain": [
       "FriedmanchisquareResult(statistic=9.578947368421062, pvalue=0.00831683351100441)"
      ]
     },
     "execution_count": 8,
     "metadata": {},
     "output_type": "execute_result"
    }
   ],
   "source": [
    "a1= np.array([150, 160, 165, 145, 155])\n",
    "a2 = np.array([140, 155, 150, 130, 135])\n",
    "a3= np.array([130, 130, 120, 130, 125])\n",
    "stats.friedmanchisquare(a1,a2,a3)"
   ]
  },
  {
   "cell_type": "markdown",
   "id": "83b02a7e",
   "metadata": {},
   "source": [
    "Так как p value < alpha (0.08) то мы   отвергаем нулевую гипотезу"
   ]
  },
  {
   "cell_type": "markdown",
   "id": "5f3fc188",
   "metadata": {},
   "source": [
    "Задание 3  Сравните 1 и 2 е измерения, предполагая, что 3го измерения через 30 минут не было."
   ]
  },
  {
   "cell_type": "code",
   "execution_count": 12,
   "id": "68a086c2",
   "metadata": {},
   "outputs": [
    {
     "data": {
      "text/plain": [
       "WilcoxonResult(statistic=0.0, pvalue=0.0625)"
      ]
     },
     "execution_count": 12,
     "metadata": {},
     "output_type": "execute_result"
    }
   ],
   "source": [
    "b1= np.array([150, 160, 165, 145, 155])\n",
    "b2 = np.array([140, 155, 150, 130, 135])\n",
    "stats.wilcoxon(b1,b2)\n"
   ]
  },
  {
   "cell_type": "code",
   "execution_count": 13,
   "id": "38abcd2d",
   "metadata": {},
   "outputs": [
    {
     "data": {
      "text/plain": [
       "MannwhitneyuResult(statistic=12.5, pvalue=1.0)"
      ]
     },
     "execution_count": 13,
     "metadata": {},
     "output_type": "execute_result"
    }
   ],
   "source": [
    "stats.mannwhitneyu(a1,b1)"
   ]
  },
  {
   "cell_type": "markdown",
   "id": "97f8ba35",
   "metadata": {},
   "source": [
    "Так как p value > alpha (0.05) то мы не можем отвергнуть нулевую гипотезу в обоих случаях"
   ]
  },
  {
   "cell_type": "markdown",
   "id": "2208cab8",
   "metadata": {},
   "source": [
    "Задание 4 Даны 3 группы учеников плавания.\n",
    "В 1 группе время на дистанцию 50 м составляют:\n",
    "56, 60, 62, 55, 71, 67, 59, 58, 64, 67\n",
    "Вторая группа : 57, 58, 69, 48, 72, 70, 68, 71, 50, 53\n",
    "Третья группа: 57, 67, 49, 48, 47, 55, 66, 51, 54"
   ]
  },
  {
   "cell_type": "code",
   "execution_count": 16,
   "id": "77ca1d66",
   "metadata": {},
   "outputs": [
    {
     "data": {
      "text/plain": [
       "(10, 10, 9)"
      ]
     },
     "execution_count": 16,
     "metadata": {},
     "output_type": "execute_result"
    }
   ],
   "source": [
    "q1=np.array([56, 60, 62, 55, 71, 67, 59, 58, 64, 67])\n",
    "q2=np.array([57, 58, 69, 48, 72, 70, 68, 71, 50, 53])\n",
    "q3=np.array([57, 67, 49, 48, 47, 55, 66, 51, 54])\n",
    "len(q1),len(q2),len (q3)"
   ]
  },
  {
   "cell_type": "code",
   "execution_count": 17,
   "id": "ceb2746d",
   "metadata": {},
   "outputs": [
    {
     "data": {
      "text/plain": [
       "KruskalResult(statistic=5.465564058257224, pvalue=0.0650380998590494)"
      ]
     },
     "execution_count": 17,
     "metadata": {},
     "output_type": "execute_result"
    }
   ],
   "source": [
    "stats.kruskal(q1,q2,q3)"
   ]
  },
  {
   "cell_type": "markdown",
   "id": "0dee14d1",
   "metadata": {},
   "source": [
    "Так как p value > alpha (0.05) то мы не можем отвергнуть нулевую гипотезу "
   ]
  },
  {
   "cell_type": "code",
   "execution_count": null,
   "id": "8596000a",
   "metadata": {},
   "outputs": [],
   "source": []
  }
 ],
 "metadata": {
  "kernelspec": {
   "display_name": "Python 3 (ipykernel)",
   "language": "python",
   "name": "python3"
  },
  "language_info": {
   "codemirror_mode": {
    "name": "ipython",
    "version": 3
   },
   "file_extension": ".py",
   "mimetype": "text/x-python",
   "name": "python",
   "nbconvert_exporter": "python",
   "pygments_lexer": "ipython3",
   "version": "3.9.12"
  }
 },
 "nbformat": 4,
 "nbformat_minor": 5
}
