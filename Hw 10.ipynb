{
 "cells": [
  {
   "cell_type": "code",
   "execution_count": 1,
   "id": "7b04c6f0",
   "metadata": {},
   "outputs": [],
   "source": [
    "import numpy as np"
   ]
  },
  {
   "cell_type": "markdown",
   "id": "7243c7c6",
   "metadata": {},
   "source": [
    "## Провести дисперсионный анализ для определения того, есть ли различия среднего роста среди взрослых футболистов, хоккеистов и штангистов. Даны значения роста в трех группах случайно выбранных спортсменов: Футболисты: 173, 175, 180, 178, 177, 185, 183, 182. Хоккеисты: 177, 179, 180, 188, 177, 172, 171, 184, 180. Штангисты: 172, 173, 169, 177, 166, 180, 178, 177, 172, 166, 170."
   ]
  },
  {
   "cell_type": "code",
   "execution_count": 2,
   "id": "04466574",
   "metadata": {},
   "outputs": [
    {
     "name": "stdout",
     "output_type": "stream",
     "text": [
      "28\n"
     ]
    }
   ],
   "source": [
    "n1 = 8\n",
    "n2 = 9\n",
    "n3 = 11\n",
    "n = n1 + n2 + n3\n",
    "print(n)\n"
   ]
  },
  {
   "cell_type": "markdown",
   "id": "ea0faf05",
   "metadata": {},
   "source": [
    "Всего три группы:"
   ]
  },
  {
   "cell_type": "code",
   "execution_count": 3,
   "id": "74a599a1",
   "metadata": {},
   "outputs": [],
   "source": [
    "k = 3\n"
   ]
  },
  {
   "cell_type": "markdown",
   "id": "89a538ac",
   "metadata": {},
   "source": [
    "Рост футболистов:\n"
   ]
  },
  {
   "cell_type": "code",
   "execution_count": 4,
   "id": "cd03048b",
   "metadata": {},
   "outputs": [],
   "source": [
    "\n",
    "y1 = np.array([173, 175, 180, 178, 177, 185, 183, 182], dtype=np.float64)"
   ]
  },
  {
   "cell_type": "markdown",
   "id": "8c4984fd",
   "metadata": {},
   "source": [
    "Рост хоккеистов:\n"
   ]
  },
  {
   "cell_type": "code",
   "execution_count": 5,
   "id": "6fedc76e",
   "metadata": {},
   "outputs": [],
   "source": [
    "y2 = np.array([177, 179, 180, 188, 177, 172, 171, 184, 180], dtype=np.float64)"
   ]
  },
  {
   "cell_type": "markdown",
   "id": "74744590",
   "metadata": {},
   "source": [
    "Рост штангистов:"
   ]
  },
  {
   "cell_type": "code",
   "execution_count": 6,
   "id": "69c12ecf",
   "metadata": {},
   "outputs": [],
   "source": [
    "y3 = np.array([172, 173, 169, 177, 166, 180, 178, 177, 172, 166, 170], dtype=np.float64)"
   ]
  },
  {
   "cell_type": "markdown",
   "id": "193d22c9",
   "metadata": {},
   "source": [
    "Проведем однофакторный дисперсионный анализ. Сначала найдем средний рост для каждой профессии:"
   ]
  },
  {
   "cell_type": "code",
   "execution_count": 7,
   "id": "a64f3008",
   "metadata": {},
   "outputs": [
    {
     "name": "stdout",
     "output_type": "stream",
     "text": [
      "179.125\n"
     ]
    }
   ],
   "source": [
    "\n",
    "y1_mean = np.mean(y1)\n",
    "print(y1_mean)"
   ]
  },
  {
   "cell_type": "code",
   "execution_count": 8,
   "id": "f1637c98",
   "metadata": {},
   "outputs": [
    {
     "name": "stdout",
     "output_type": "stream",
     "text": [
      "178.66666666666666\n"
     ]
    }
   ],
   "source": [
    "y2_mean = np.mean(y2)\n",
    "print(y2_mean)\n"
   ]
  },
  {
   "cell_type": "code",
   "execution_count": 9,
   "id": "86a3b95e",
   "metadata": {},
   "outputs": [
    {
     "name": "stdout",
     "output_type": "stream",
     "text": [
      "172.72727272727272\n"
     ]
    }
   ],
   "source": [
    "y3_mean = np.mean(y3)\n",
    "print(y3_mean)"
   ]
  },
  {
   "cell_type": "markdown",
   "id": "7528705a",
   "metadata": {},
   "source": [
    "Видно, что средний рост разнится. Установим, что это отличие статистически значимо. Для этого сначала соберем\n",
    "\n",
    "все значения заработных плат в один массив:"
   ]
  },
  {
   "cell_type": "code",
   "execution_count": 10,
   "id": "1e946aaf",
   "metadata": {
    "scrolled": false
   },
   "outputs": [
    {
     "data": {
      "text/plain": [
       "array([173., 175., 180., 178., 177., 185., 183., 182., 177., 179., 180.,\n",
       "       188., 177., 172., 171., 184., 180., 172., 173., 169., 177., 166.,\n",
       "       180., 178., 177., 172., 166., 170.])"
      ]
     },
     "execution_count": 10,
     "metadata": {},
     "output_type": "execute_result"
    }
   ],
   "source": [
    "y_all = np.concatenate([y1, y2, y3])\n",
    "y_all"
   ]
  },
  {
   "cell_type": "markdown",
   "id": "2dad2179",
   "metadata": {},
   "source": [
    "Найдем среднее значение роста по всем значениям:"
   ]
  },
  {
   "cell_type": "code",
   "execution_count": 11,
   "id": "c711dfc9",
   "metadata": {},
   "outputs": [
    {
     "name": "stdout",
     "output_type": "stream",
     "text": [
      "176.46428571428572\n"
     ]
    }
   ],
   "source": [
    "y_mean = np.mean(y_all)\n",
    "print(y_mean)\n"
   ]
  },
  {
   "cell_type": "markdown",
   "id": "56cfce78",
   "metadata": {},
   "source": [
    "Найдем S2— сумму квадратов отклонений наблюдений от общего среднего:"
   ]
  },
  {
   "cell_type": "code",
   "execution_count": 12,
   "id": "b8118ec0",
   "metadata": {
    "scrolled": true
   },
   "outputs": [
    {
     "data": {
      "text/plain": [
       "830.9642857142854"
      ]
     },
     "execution_count": 12,
     "metadata": {},
     "output_type": "execute_result"
    }
   ],
   "source": [
    "s2 = np.sum((y_all - y_mean)**2)\n",
    "s2\n"
   ]
  },
  {
   "cell_type": "markdown",
   "id": "2ee30691",
   "metadata": {},
   "source": [
    "Найдем - сумму квадратов отклонений средних групповых значений от общего среднего:"
   ]
  },
  {
   "cell_type": "code",
   "execution_count": 14,
   "id": "01f92907",
   "metadata": {},
   "outputs": [
    {
     "data": {
      "text/plain": [
       "253.9074675324678"
      ]
     },
     "execution_count": 14,
     "metadata": {},
     "output_type": "execute_result"
    }
   ],
   "source": [
    "s2_f = ((y1_mean - y_mean)**2) * n1 + ((y2_mean - y_mean)**2) * n2 + ((y3_mean - y_mean)**2) * n3\n",
    "s2_f"
   ]
  },
  {
   "cell_type": "markdown",
   "id": "b7f1b92b",
   "metadata": {},
   "source": [
    "Найдем ост — остаточную сумму квадратов отклонений:"
   ]
  },
  {
   "cell_type": "code",
   "execution_count": 15,
   "id": "4e398b3b",
   "metadata": {},
   "outputs": [
    {
     "data": {
      "text/plain": [
       "577.0568181818182"
      ]
     },
     "execution_count": 15,
     "metadata": {},
     "output_type": "execute_result"
    }
   ],
   "source": [
    "s2_residual = np.sum((y1 - y1_mean)**2) + np.sum((y2 - y2_mean)**2) + np.sum((y3 - y3_mean)**2)\n",
    "s2_residual"
   ]
  },
  {
   "cell_type": "markdown",
   "id": "f01929f5",
   "metadata": {},
   "source": [
    "Удостоверимся, что соблюдается равенство ост:"
   ]
  },
  {
   "cell_type": "code",
   "execution_count": 16,
   "id": "c7176eb1",
   "metadata": {},
   "outputs": [
    {
     "name": "stdout",
     "output_type": "stream",
     "text": [
      "830.9642857142854\n",
      "830.964285714286\n"
     ]
    }
   ],
   "source": [
    "print(s2)\n",
    "print(s2_f + s2_residual)\n"
   ]
  },
  {
   "cell_type": "markdown",
   "id": "d1d3170d",
   "metadata": {},
   "source": [
    "Найдем общую дисперсию:"
   ]
  },
  {
   "cell_type": "code",
   "execution_count": 17,
   "id": "8cf5f32b",
   "metadata": {},
   "outputs": [
    {
     "data": {
      "text/plain": [
       "30.776455026455015"
      ]
     },
     "execution_count": 17,
     "metadata": {},
     "output_type": "execute_result"
    }
   ],
   "source": [
    "sigma2_general = s2 / (n - 1)\n",
    "sigma2_general"
   ]
  },
  {
   "cell_type": "markdown",
   "id": "a9ed34ca",
   "metadata": {},
   "source": [
    "Найдем факторную дисперсию:"
   ]
  },
  {
   "cell_type": "code",
   "execution_count": 18,
   "id": "92a3ec29",
   "metadata": {},
   "outputs": [
    {
     "data": {
      "text/plain": [
       "126.9537337662339"
      ]
     },
     "execution_count": 18,
     "metadata": {},
     "output_type": "execute_result"
    }
   ],
   "source": [
    "sigma2_f = s2_f / (k - 1)\n",
    "sigma2_f"
   ]
  },
  {
   "cell_type": "markdown",
   "id": "8920272a",
   "metadata": {},
   "source": [
    "Найдем остаточную дисперсию:"
   ]
  },
  {
   "cell_type": "code",
   "execution_count": 19,
   "id": "3cd7ea20",
   "metadata": {},
   "outputs": [
    {
     "data": {
      "text/plain": [
       "23.08227272727273"
      ]
     },
     "execution_count": 19,
     "metadata": {},
     "output_type": "execute_result"
    }
   ],
   "source": [
    "sigma2_residual = s2_residual / (n - k)\n",
    "sigma2_residual"
   ]
  },
  {
   "cell_type": "markdown",
   "id": "17e732e0",
   "metadata": {},
   "source": [
    "Вычислим Fh:"
   ]
  },
  {
   "cell_type": "code",
   "execution_count": 21,
   "id": "2168acfd",
   "metadata": {},
   "outputs": [
    {
     "data": {
      "text/plain": [
       "5.500053450812598"
      ]
     },
     "execution_count": 21,
     "metadata": {},
     "output_type": "execute_result"
    }
   ],
   "source": [
    "F_h = sigma2_f / sigma2_residual\n",
    "F_h"
   ]
  },
  {
   "attachments": {},
   "cell_type": "markdown",
   "id": "cc347201",
   "metadata": {},
   "source": [
    "#### Найдем значение Fкрит  таблице критических точек распределения Фишера-Снедекора для заданного уровня значимости $\\alpha $ = 0.05\n",
    "dfмежд= k-1 = 3-1=2 и df внутреннее n-k = 28- 3 = 25.\n",
    "Для данных значений  Fкрит= 3.3852 так как Fн> Fкритич отвергнута гипотеза Н0, различие роста в трех группах статистически значимо."
   ]
  }
 ],
 "metadata": {
  "kernelspec": {
   "display_name": "Python 3 (ipykernel)",
   "language": "python",
   "name": "python3"
  },
  "language_info": {
   "codemirror_mode": {
    "name": "ipython",
    "version": 3
   },
   "file_extension": ".py",
   "mimetype": "text/x-python",
   "name": "python",
   "nbconvert_exporter": "python",
   "pygments_lexer": "ipython3",
   "version": "3.9.12"
  }
 },
 "nbformat": 4,
 "nbformat_minor": 5
}
