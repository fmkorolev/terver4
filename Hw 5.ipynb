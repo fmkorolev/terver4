{
 "cells": [
  {
   "cell_type": "code",
   "execution_count": 18,
   "id": "29d2bc14",
   "metadata": {},
   "outputs": [],
   "source": [
    "import pandas as pd\n",
    "import numpy as np\n",
    "from statsmodels.stats.weightstats import _tconfint_generic as t_stat\n",
    "from scipy.stats import norm \n",
    "import math"
   ]
  },
  {
   "cell_type": "markdown",
   "id": "142506d1",
   "metadata": {},
   "source": [
    "Задача 5.3\n",
    "Продавец утверждает, что средний вес пачки печенья составляет 200 г. Из партии извлечена выборка из 10 пачек. Вес каждой пачки составляет:\n",
    "\n",
    "202, 203, 199, 197, 195, 201, 200, 204, 194, 190\n",
    "Известно, что их веса распределены нормально. Верно ли утверждение продавца, если учитывать, что доверительная вероятность равна 99%?"
   ]
  },
  {
   "cell_type": "code",
   "execution_count": 2,
   "id": "7a75ead8",
   "metadata": {},
   "outputs": [],
   "source": [
    "n = 10\n",
    "alpha = 0.01\n",
    "\n",
    "samples = np.array([202, 203, 199, 197, 195, 201, 200, 204, 194, 190])\n"
   ]
  },
  {
   "cell_type": "code",
   "execution_count": 3,
   "id": "1982ff30",
   "metadata": {},
   "outputs": [
    {
     "data": {
      "text/plain": [
       "198.5"
      ]
     },
     "execution_count": 3,
     "metadata": {},
     "output_type": "execute_result"
    }
   ],
   "source": [
    "m = samples.mean()\n",
    "m"
   ]
  },
  {
   "cell_type": "code",
   "execution_count": 4,
   "id": "64b36613",
   "metadata": {},
   "outputs": [
    {
     "data": {
      "text/plain": [
       "4.453463071962462"
      ]
     },
     "execution_count": 4,
     "metadata": {},
     "output_type": "execute_result"
    }
   ],
   "source": [
    "s = samples.std(ddof=1)\n",
    "s"
   ]
  },
  {
   "cell_type": "code",
   "execution_count": 5,
   "id": "78398167",
   "metadata": {},
   "outputs": [],
   "source": [
    "# n-1\n",
    "t_obj = stats.t(n - 1)"
   ]
  },
  {
   "cell_type": "code",
   "execution_count": 6,
   "id": "89bb2979",
   "metadata": {},
   "outputs": [
    {
     "data": {
      "text/plain": [
       "3.2498355440153697"
      ]
     },
     "execution_count": 6,
     "metadata": {},
     "output_type": "execute_result"
    }
   ],
   "source": [
    "# 1 - alpha / 2\n",
    "t = t_obj.ppf(1 - alpha / 2)\n",
    "t"
   ]
  },
  {
   "cell_type": "code",
   "execution_count": 7,
   "id": "3f561816",
   "metadata": {},
   "outputs": [
    {
     "data": {
      "text/plain": [
       "(193.92322840036354, 203.07677159963646)"
      ]
     },
     "execution_count": 7,
     "metadata": {},
     "output_type": "execute_result"
    }
   ],
   "source": [
    "\n",
    "(m - t * s / np.sqrt(n), m + t * s / np.sqrt(n))"
   ]
  },
  {
   "cell_type": "markdown",
   "id": "00fd843e",
   "metadata": {},
   "source": [
    "Ответ:\n",
    "Утверждение продавца верно, т.к. оно попадает в доверительный интервал."
   ]
  },
  {
   "cell_type": "markdown",
   "id": "aa4c2669",
   "metadata": {},
   "source": [
    "**Задание 5.1 Когда используется критерий Стьюдента, а когда Z –критерий?**\n",
    "\n",
    "**Критерий t-Стьюдента используется для определения статистической значимости различий средних величин**\n",
    "\n",
    "\n",
    "*Z-критерий применяется для проверки равенства средних значений при известной дисперсии генеральной совокупности или при оценке выборочного среднего стандартизованных значений.*\n",
    "\n"
   ]
  },
  {
   "cell_type": "markdown",
   "id": "b9c3035f",
   "metadata": {},
   "source": [
    "Задание 5.2 \n",
    "_Проведите тест гипотезы. Утверждается, что шарики для подшипников, изготовленные автоматическим станком, имеют средний диаметр 17 мм.\n",
    "Используя односторонний критерий с α=0,05, проверить эту гипотезу, если в выборке из n=100 шариков средний диаметр\n",
    "оказался равным 17.5 мм, а дисперсия известна и равна 4 кв. мм._\n"
   ]
  },
  {
   "cell_type": "code",
   "execution_count": 9,
   "id": "bb224d06",
   "metadata": {},
   "outputs": [
    {
     "data": {
      "text/plain": [
       "1.25"
      ]
     },
     "execution_count": 9,
     "metadata": {},
     "output_type": "execute_result"
    }
   ],
   "source": [
    "U_fact = (17.5 - 17) / 4 * np.sqrt(100)\n",
    "U_fact"
   ]
  },
  {
   "cell_type": "code",
   "execution_count": 24,
   "id": "39688b4a",
   "metadata": {},
   "outputs": [],
   "source": [
    "(U_cr) = 1.645"
   ]
  },
  {
   "cell_type": "markdown",
   "id": "90133906",
   "metadata": {},
   "source": [
    "т.к. U_fact < U_cr Нулевая гипотеза принимается"
   ]
  },
  {
   "cell_type": "code",
   "execution_count": null,
   "id": "95912a23",
   "metadata": {},
   "outputs": [],
   "source": []
  }
 ],
 "metadata": {
  "kernelspec": {
   "display_name": "Python 3 (ipykernel)",
   "language": "python",
   "name": "python3"
  },
  "language_info": {
   "codemirror_mode": {
    "name": "ipython",
    "version": 3
   },
   "file_extension": ".py",
   "mimetype": "text/x-python",
   "name": "python",
   "nbconvert_exporter": "python",
   "pygments_lexer": "ipython3",
   "version": "3.9.12"
  }
 },
 "nbformat": 4,
 "nbformat_minor": 5
}
